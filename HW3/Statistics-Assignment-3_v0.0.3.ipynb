{
 "cells": [
  {
   "cell_type": "code",
   "execution_count": 323,
   "metadata": {
    "collapsed": true
   },
   "outputs": [],
   "source": [
    "%matplotlib inline"
   ]
  },
  {
   "cell_type": "code",
   "execution_count": 324,
   "metadata": {
    "collapsed": true
   },
   "outputs": [],
   "source": [
    "import numpy as np\n",
    "import pandas as pd\n",
    "\n",
    "from sklearn import linear_model, metrics\n",
    "from sklearn.metrics import roc_auc_score, classification_report, roc_curve, auc\n",
    "from sklearn import preprocessing\n",
    "from sklearn.linear_model import Lasso, LogisticRegression, LogisticRegressionCV \n",
    "from sklearn.model_selection import train_test_split,  cross_val_score, GridSearchCV, KFold\n",
    "from sklearn.svm import SVR\n",
    "from sklearn.base import BaseEstimator, RegressorMixin\n",
    "from sklearn.metrics.pairwise import pairwise_kernels\n",
    "from sklearn.model_selection import LeaveOneOut\n",
    "\n",
    "from sklearn.naive_bayes import BernoulliNB\n",
    "from sklearn.pipeline import make_pipeline, make_union\n",
    "from sklearn.tree import DecisionTreeClassifier\n",
    "from tpot.builtins import StackingEstimator\n",
    "\n",
    "from sklearn_pandas import DataFrameMapper\n",
    "\n",
    "from scipy.optimize import leastsq\n",
    "from scipy.optimize import curve_fit\n",
    "\n",
    "import matplotlib.pyplot as plt\n",
    "import seaborn as sns"
   ]
  },
  {
   "cell_type": "code",
   "execution_count": 325,
   "metadata": {
    "collapsed": true
   },
   "outputs": [],
   "source": [
    "from tpot import TPOTClassifier\n",
    "from sklearn.externals import joblib"
   ]
  },
  {
   "cell_type": "raw",
   "metadata": {},
   "source": [
    "salary = 1999 salary + bonuses\n",
    "totcomp = 1999 CEO total compensation\n",
    "tenure = # of years as CEO (=0 if less than 6 months)\n",
    "age = age of CEO\n",
    "sales = total 1998 sales revenue of firm i\n",
    "profits = 1998 profits for firm i\n",
    "assets = total assets of firm i in 1998"
   ]
  },
  {
   "cell_type": "code",
   "execution_count": 326,
   "metadata": {
    "collapsed": true
   },
   "outputs": [],
   "source": [
    "file_name = 'ceo.xlsx'"
   ]
  },
  {
   "cell_type": "code",
   "execution_count": 327,
   "metadata": {
    "collapsed": true
   },
   "outputs": [],
   "source": [
    "df_origin = pd.read_excel(file_name)"
   ]
  },
  {
   "cell_type": "code",
   "execution_count": 328,
   "metadata": {},
   "outputs": [
    {
     "data": {
      "text/html": [
       "<div>\n",
       "<style scoped>\n",
       "    .dataframe tbody tr th:only-of-type {\n",
       "        vertical-align: middle;\n",
       "    }\n",
       "\n",
       "    .dataframe tbody tr th {\n",
       "        vertical-align: top;\n",
       "    }\n",
       "\n",
       "    .dataframe thead th {\n",
       "        text-align: right;\n",
       "    }\n",
       "</style>\n",
       "<table border=\"1\" class=\"dataframe\">\n",
       "  <thead>\n",
       "    <tr style=\"text-align: right;\">\n",
       "      <th></th>\n",
       "      <th>salary</th>\n",
       "      <th>totcomp</th>\n",
       "      <th>tenure</th>\n",
       "      <th>age</th>\n",
       "      <th>sales</th>\n",
       "      <th>profits</th>\n",
       "      <th>assets</th>\n",
       "      <th>Unnamed: 7</th>\n",
       "    </tr>\n",
       "  </thead>\n",
       "  <tbody>\n",
       "    <tr>\n",
       "      <th>0</th>\n",
       "      <td>3030</td>\n",
       "      <td>8138</td>\n",
       "      <td>7</td>\n",
       "      <td>61</td>\n",
       "      <td>161315.0</td>\n",
       "      <td>2956.0</td>\n",
       "      <td>257389.0</td>\n",
       "      <td>NaN</td>\n",
       "    </tr>\n",
       "    <tr>\n",
       "      <th>1</th>\n",
       "      <td>6050</td>\n",
       "      <td>14530</td>\n",
       "      <td>0</td>\n",
       "      <td>51</td>\n",
       "      <td>144416.0</td>\n",
       "      <td>22071.0</td>\n",
       "      <td>237545.0</td>\n",
       "      <td>NaN</td>\n",
       "    </tr>\n",
       "    <tr>\n",
       "      <th>2</th>\n",
       "      <td>3571</td>\n",
       "      <td>7433</td>\n",
       "      <td>11</td>\n",
       "      <td>63</td>\n",
       "      <td>139208.0</td>\n",
       "      <td>4430.0</td>\n",
       "      <td>49271.0</td>\n",
       "      <td>NaN</td>\n",
       "    </tr>\n",
       "    <tr>\n",
       "      <th>3</th>\n",
       "      <td>3300</td>\n",
       "      <td>13464</td>\n",
       "      <td>6</td>\n",
       "      <td>60</td>\n",
       "      <td>100697.0</td>\n",
       "      <td>6370.0</td>\n",
       "      <td>92630.0</td>\n",
       "      <td>NaN</td>\n",
       "    </tr>\n",
       "    <tr>\n",
       "      <th>4</th>\n",
       "      <td>10000</td>\n",
       "      <td>68285</td>\n",
       "      <td>18</td>\n",
       "      <td>63</td>\n",
       "      <td>100469.0</td>\n",
       "      <td>9296.0</td>\n",
       "      <td>355935.0</td>\n",
       "      <td>NaN</td>\n",
       "    </tr>\n",
       "  </tbody>\n",
       "</table>\n",
       "</div>"
      ],
      "text/plain": [
       "   salary  totcomp  tenure  age     sales  profits    assets Unnamed: 7\n",
       "0    3030     8138       7   61  161315.0   2956.0  257389.0        NaN\n",
       "1    6050    14530       0   51  144416.0  22071.0  237545.0        NaN\n",
       "2    3571     7433      11   63  139208.0   4430.0   49271.0        NaN\n",
       "3    3300    13464       6   60  100697.0   6370.0   92630.0        NaN\n",
       "4   10000    68285      18   63  100469.0   9296.0  355935.0        NaN"
      ]
     },
     "execution_count": 328,
     "metadata": {},
     "output_type": "execute_result"
    }
   ],
   "source": [
    "df_origin.head()"
   ]
  },
  {
   "cell_type": "code",
   "execution_count": 329,
   "metadata": {
    "collapsed": true
   },
   "outputs": [],
   "source": [
    "df = df_origin.drop(['Unnamed: 7'], axis=1)"
   ]
  },
  {
   "cell_type": "code",
   "execution_count": 330,
   "metadata": {},
   "outputs": [
    {
     "data": {
      "text/html": [
       "<div>\n",
       "<style scoped>\n",
       "    .dataframe tbody tr th:only-of-type {\n",
       "        vertical-align: middle;\n",
       "    }\n",
       "\n",
       "    .dataframe tbody tr th {\n",
       "        vertical-align: top;\n",
       "    }\n",
       "\n",
       "    .dataframe thead th {\n",
       "        text-align: right;\n",
       "    }\n",
       "</style>\n",
       "<table border=\"1\" class=\"dataframe\">\n",
       "  <thead>\n",
       "    <tr style=\"text-align: right;\">\n",
       "      <th></th>\n",
       "      <th>salary</th>\n",
       "      <th>totcomp</th>\n",
       "      <th>tenure</th>\n",
       "      <th>age</th>\n",
       "      <th>sales</th>\n",
       "      <th>profits</th>\n",
       "      <th>assets</th>\n",
       "    </tr>\n",
       "  </thead>\n",
       "  <tbody>\n",
       "    <tr>\n",
       "      <th>0</th>\n",
       "      <td>3030</td>\n",
       "      <td>8138</td>\n",
       "      <td>7</td>\n",
       "      <td>61</td>\n",
       "      <td>161315.0</td>\n",
       "      <td>2956.0</td>\n",
       "      <td>257389.0</td>\n",
       "    </tr>\n",
       "    <tr>\n",
       "      <th>1</th>\n",
       "      <td>6050</td>\n",
       "      <td>14530</td>\n",
       "      <td>0</td>\n",
       "      <td>51</td>\n",
       "      <td>144416.0</td>\n",
       "      <td>22071.0</td>\n",
       "      <td>237545.0</td>\n",
       "    </tr>\n",
       "    <tr>\n",
       "      <th>2</th>\n",
       "      <td>3571</td>\n",
       "      <td>7433</td>\n",
       "      <td>11</td>\n",
       "      <td>63</td>\n",
       "      <td>139208.0</td>\n",
       "      <td>4430.0</td>\n",
       "      <td>49271.0</td>\n",
       "    </tr>\n",
       "    <tr>\n",
       "      <th>3</th>\n",
       "      <td>3300</td>\n",
       "      <td>13464</td>\n",
       "      <td>6</td>\n",
       "      <td>60</td>\n",
       "      <td>100697.0</td>\n",
       "      <td>6370.0</td>\n",
       "      <td>92630.0</td>\n",
       "    </tr>\n",
       "    <tr>\n",
       "      <th>4</th>\n",
       "      <td>10000</td>\n",
       "      <td>68285</td>\n",
       "      <td>18</td>\n",
       "      <td>63</td>\n",
       "      <td>100469.0</td>\n",
       "      <td>9296.0</td>\n",
       "      <td>355935.0</td>\n",
       "    </tr>\n",
       "  </tbody>\n",
       "</table>\n",
       "</div>"
      ],
      "text/plain": [
       "   salary  totcomp  tenure  age     sales  profits    assets\n",
       "0    3030     8138       7   61  161315.0   2956.0  257389.0\n",
       "1    6050    14530       0   51  144416.0  22071.0  237545.0\n",
       "2    3571     7433      11   63  139208.0   4430.0   49271.0\n",
       "3    3300    13464       6   60  100697.0   6370.0   92630.0\n",
       "4   10000    68285      18   63  100469.0   9296.0  355935.0"
      ]
     },
     "execution_count": 330,
     "metadata": {},
     "output_type": "execute_result"
    }
   ],
   "source": [
    "df.head()"
   ]
  },
  {
   "cell_type": "code",
   "execution_count": 331,
   "metadata": {},
   "outputs": [
    {
     "data": {
      "text/plain": [
       "count      447.000000\n",
       "mean      2027.516779\n",
       "std       1722.566389\n",
       "min        100.000000\n",
       "25%       1084.000000\n",
       "50%       1600.000000\n",
       "75%       2347.500000\n",
       "max      15250.000000\n",
       "Name: salary, dtype: float64"
      ]
     },
     "execution_count": 331,
     "metadata": {},
     "output_type": "execute_result"
    }
   ],
   "source": [
    "df[\"salary\"].describe()"
   ]
  },
  {
   "cell_type": "code",
   "execution_count": 332,
   "metadata": {},
   "outputs": [
    {
     "data": {
      "text/plain": [
       "salary       int64\n",
       "totcomp      int64\n",
       "tenure       int64\n",
       "age          int64\n",
       "sales      float64\n",
       "profits    float64\n",
       "assets     float64\n",
       "dtype: object"
      ]
     },
     "execution_count": 332,
     "metadata": {},
     "output_type": "execute_result"
    }
   ],
   "source": [
    "# let's look at the data types\n",
    "df.dtypes"
   ]
  },
  {
   "cell_type": "code",
   "execution_count": 333,
   "metadata": {},
   "outputs": [
    {
     "data": {
      "text/plain": [
       "salary     0\n",
       "totcomp    0\n",
       "tenure     0\n",
       "age        0\n",
       "sales      0\n",
       "profits    0\n",
       "assets     0\n",
       "dtype: int64"
      ]
     },
     "execution_count": 333,
     "metadata": {},
     "output_type": "execute_result"
    }
   ],
   "source": [
    "# Let's compute the number of missing values\n",
    "pd.isnull(df).sum()"
   ]
  },
  {
   "cell_type": "code",
   "execution_count": 334,
   "metadata": {
    "collapsed": true
   },
   "outputs": [],
   "source": [
    "#dependent variable\n",
    "target = \"salary\"\n",
    "\n",
    "# remaining variables  -features\n",
    "features = list(df.columns.values)\n",
    "features.remove(target)"
   ]
  },
  {
   "cell_type": "code",
   "execution_count": 335,
   "metadata": {},
   "outputs": [
    {
     "data": {
      "text/plain": [
       "[u'totcomp', u'tenure', u'age', u'sales', u'profits', u'assets']"
      ]
     },
     "execution_count": 335,
     "metadata": {},
     "output_type": "execute_result"
    }
   ],
   "source": [
    "features"
   ]
  },
  {
   "cell_type": "code",
   "execution_count": 336,
   "metadata": {
    "collapsed": true
   },
   "outputs": [],
   "source": [
    "# Standardization\n",
    "std_scale =  preprocessing.StandardScaler().fit(df[features])\n",
    "df_features = std_scale.transform(df[features])"
   ]
  },
  {
   "cell_type": "code",
   "execution_count": 337,
   "metadata": {
    "collapsed": true
   },
   "outputs": [],
   "source": [
    "df[features] = df_features"
   ]
  },
  {
   "cell_type": "code",
   "execution_count": 338,
   "metadata": {},
   "outputs": [
    {
     "data": {
      "text/html": [
       "<div>\n",
       "<style scoped>\n",
       "    .dataframe tbody tr th:only-of-type {\n",
       "        vertical-align: middle;\n",
       "    }\n",
       "\n",
       "    .dataframe tbody tr th {\n",
       "        vertical-align: top;\n",
       "    }\n",
       "\n",
       "    .dataframe thead th {\n",
       "        text-align: right;\n",
       "    }\n",
       "</style>\n",
       "<table border=\"1\" class=\"dataframe\">\n",
       "  <thead>\n",
       "    <tr style=\"text-align: right;\">\n",
       "      <th></th>\n",
       "      <th>salary</th>\n",
       "      <th>totcomp</th>\n",
       "      <th>tenure</th>\n",
       "      <th>age</th>\n",
       "      <th>sales</th>\n",
       "      <th>profits</th>\n",
       "      <th>assets</th>\n",
       "    </tr>\n",
       "  </thead>\n",
       "  <tbody>\n",
       "    <tr>\n",
       "      <th>0</th>\n",
       "      <td>3030</td>\n",
       "      <td>-0.006407</td>\n",
       "      <td>-0.101299</td>\n",
       "      <td>0.666302</td>\n",
       "      <td>9.272736</td>\n",
       "      <td>1.463864</td>\n",
       "      <td>3.566288</td>\n",
       "    </tr>\n",
       "    <tr>\n",
       "      <th>1</th>\n",
       "      <td>6050</td>\n",
       "      <td>0.196279</td>\n",
       "      <td>-0.951073</td>\n",
       "      <td>-0.804498</td>\n",
       "      <td>8.226376</td>\n",
       "      <td>13.869664</td>\n",
       "      <td>3.259042</td>\n",
       "    </tr>\n",
       "    <tr>\n",
       "      <th>2</th>\n",
       "      <td>3571</td>\n",
       "      <td>-0.028762</td>\n",
       "      <td>0.384285</td>\n",
       "      <td>0.960462</td>\n",
       "      <td>7.903905</td>\n",
       "      <td>2.420503</td>\n",
       "      <td>0.343983</td>\n",
       "    </tr>\n",
       "    <tr>\n",
       "      <th>3</th>\n",
       "      <td>3300</td>\n",
       "      <td>0.162477</td>\n",
       "      <td>-0.222695</td>\n",
       "      <td>0.519222</td>\n",
       "      <td>5.519363</td>\n",
       "      <td>3.679580</td>\n",
       "      <td>1.015313</td>\n",
       "    </tr>\n",
       "    <tr>\n",
       "      <th>4</th>\n",
       "      <td>10000</td>\n",
       "      <td>1.900813</td>\n",
       "      <td>1.234059</td>\n",
       "      <td>0.960462</td>\n",
       "      <td>5.505245</td>\n",
       "      <td>5.578579</td>\n",
       "      <td>5.092083</td>\n",
       "    </tr>\n",
       "  </tbody>\n",
       "</table>\n",
       "</div>"
      ],
      "text/plain": [
       "   salary   totcomp    tenure       age     sales    profits    assets\n",
       "0    3030 -0.006407 -0.101299  0.666302  9.272736   1.463864  3.566288\n",
       "1    6050  0.196279 -0.951073 -0.804498  8.226376  13.869664  3.259042\n",
       "2    3571 -0.028762  0.384285  0.960462  7.903905   2.420503  0.343983\n",
       "3    3300  0.162477 -0.222695  0.519222  5.519363   3.679580  1.015313\n",
       "4   10000  1.900813  1.234059  0.960462  5.505245   5.578579  5.092083"
      ]
     },
     "execution_count": 338,
     "metadata": {},
     "output_type": "execute_result"
    }
   ],
   "source": [
    "df.head()"
   ]
  },
  {
   "cell_type": "code",
   "execution_count": 339,
   "metadata": {
    "collapsed": true
   },
   "outputs": [],
   "source": [
    "X = df[features]\n",
    "y = df[target]"
   ]
  },
  {
   "cell_type": "code",
   "execution_count": 340,
   "metadata": {
    "collapsed": true
   },
   "outputs": [],
   "source": [
    "X_train, X_test, y_train, y_test = train_test_split(X, y, test_size=0.33, random_state=42)"
   ]
  },
  {
   "cell_type": "raw",
   "metadata": {},
   "source": [
    "(a) lasso regression performs L1 regularization. Main idea:  penalize parameters, some - exactly to zero  i.e. selection; and to avoid over-fitting\n",
    "Sketch a situation when a simple linear regression fails, but the lasso regression still can be estimated:\n",
    "1) dependence among variables;\n",
    "2) or for example when outliers are present - in this case linear regression sometimes fails, but the lasso regression still can be good\n",
    "(b) Lasso regression puts constraints on the size of the coefficients. However, this value will depend on the magnitude of each variable. The result of centering the variables means that there is no longer an intercept."
   ]
  },
  {
   "cell_type": "markdown",
   "metadata": {},
   "source": [
    "#### (c) Run a lasso regression for scaled  data with alpha (0; 1)."
   ]
  },
  {
   "cell_type": "code",
   "execution_count": 341,
   "metadata": {
    "collapsed": true
   },
   "outputs": [],
   "source": [
    "alpha = 0.8"
   ]
  },
  {
   "cell_type": "code",
   "execution_count": 342,
   "metadata": {
    "collapsed": true
   },
   "outputs": [],
   "source": [
    "lassoreg = Lasso(alpha=alpha)"
   ]
  },
  {
   "cell_type": "code",
   "execution_count": 343,
   "metadata": {
    "collapsed": true
   },
   "outputs": [],
   "source": [
    "lassoreg.fit(X_train, y_train)\n",
    "y_pred = lassoreg.predict(X_test)"
   ]
  },
  {
   "cell_type": "code",
   "execution_count": 344,
   "metadata": {
    "collapsed": true
   },
   "outputs": [],
   "source": [
    "def mean_absolute_percentage_error(y_true, y_pred): \n",
    "    return np.mean(np.abs((y_true - y_pred) / y_true)) * 100"
   ]
  },
  {
   "cell_type": "code",
   "execution_count": 345,
   "metadata": {},
   "outputs": [
    {
     "data": {
      "text/plain": [
       "47.659306806261128"
      ]
     },
     "execution_count": 345,
     "metadata": {},
     "output_type": "execute_result"
    }
   ],
   "source": [
    "mean_absolute_percentage_error(y_test, y_pred)"
   ]
  },
  {
   "cell_type": "code",
   "execution_count": 346,
   "metadata": {},
   "outputs": [
    {
     "data": {
      "text/plain": [
       "array([ 416.40645107,  256.68105787,   56.78303056,  323.2845075 ,\n",
       "         -1.02785237,  489.2021878 ])"
      ]
     },
     "execution_count": 346,
     "metadata": {},
     "output_type": "execute_result"
    }
   ],
   "source": [
    "lassoreg.coef_"
   ]
  },
  {
   "cell_type": "code",
   "execution_count": 347,
   "metadata": {},
   "outputs": [
    {
     "name": "stdout",
     "output_type": "stream",
     "text": [
      "y = 416.41*x1 + 256.68*x2 + 56.78*x3 + 323.28*x4 + -1.03*x5 + 489.20*x6\n"
     ]
    }
   ],
   "source": [
    "coef = lassoreg.coef_\n",
    "print \"y = {:.2f}*x1 + {:.2f}*x2 + {:.2f}*x3 + {:.2f}*x4 + {:.2f}*x5 + {:.2f}*x6\".format(coef[0], coef[1], coef[2], coef[3], coef[4], coef[5])"
   ]
  },
  {
   "cell_type": "code",
   "execution_count": 348,
   "metadata": {
    "collapsed": true
   },
   "outputs": [],
   "source": [
    "# Plot the estimated parameters as functions of alpha."
   ]
  },
  {
   "cell_type": "code",
   "execution_count": 349,
   "metadata": {
    "collapsed": true
   },
   "outputs": [],
   "source": [
    "n_alphas = 200\n",
    "alphas = np.logspace(-4, 0, n_alphas)\n",
    "\n",
    "coefs = []\n",
    "for a in alphas:\n",
    "    lr = Lasso(alpha=a)\n",
    "    lr.fit(X_train, y_train)\n",
    "    coefs.append(lr.coef_)"
   ]
  },
  {
   "cell_type": "code",
   "execution_count": 350,
   "metadata": {
    "collapsed": true
   },
   "outputs": [],
   "source": [
    "coefs = np.vstack(coefs)"
   ]
  },
  {
   "cell_type": "code",
   "execution_count": 351,
   "metadata": {},
   "outputs": [
    {
     "data": {
      "image/png": "[encoded data removed]",
      "text/plain": [
       "<matplotlib.figure.Figure at 0x233f73c8>"
      ]
     },
     "metadata": {},
     "output_type": "display_data"
    }
   ],
   "source": [
    "# Display results\n",
    "\n",
    "ax = plt.gca()\n",
    "\n",
    "ax.plot(alphas, coefs[:,0])\n",
    "ax.set_xscale('log')\n",
    "ax.set_xlim(ax.get_xlim()[::-1])  # reverse axis\n",
    "plt.xlabel('alpha')\n",
    "plt.ylabel('weights')\n",
    "plt.title('Lasso coefficients as a function of the alpha')\n",
    "plt.axis('tight')\n",
    "plt.show()"
   ]
  },
  {
   "cell_type": "code",
   "execution_count": 352,
   "metadata": {
    "collapsed": true
   },
   "outputs": [],
   "source": [
    "# Which value of alpha would you recommend?"
   ]
  },
  {
   "cell_type": "code",
   "execution_count": 353,
   "metadata": {
    "collapsed": true
   },
   "outputs": [],
   "source": [
    "scorer = metrics.make_scorer(metrics.mean_absolute_error, greater_is_better = True)"
   ]
  },
  {
   "cell_type": "code",
   "execution_count": 354,
   "metadata": {
    "collapsed": true
   },
   "outputs": [],
   "source": [
    "lassocv = linear_model.LassoCV(alphas=alphas, normalize=True)\n",
    "lassocv.fit(X_train, y_train)\n",
    "lassocv_score = lassocv.score(X_test, y_test)\n",
    "lassocv_alpha = lassocv.alpha_"
   ]
  },
  {
   "cell_type": "code",
   "execution_count": 355,
   "metadata": {},
   "outputs": [
    {
     "data": {
      "text/plain": [
       "1.0"
      ]
     },
     "execution_count": 355,
     "metadata": {},
     "output_type": "execute_result"
    }
   ],
   "source": [
    "lassocv_alpha"
   ]
  },
  {
   "cell_type": "code",
   "execution_count": 356,
   "metadata": {
    "collapsed": true
   },
   "outputs": [],
   "source": [
    "# another approach"
   ]
  },
  {
   "cell_type": "code",
   "execution_count": 357,
   "metadata": {},
   "outputs": [
    {
     "name": "stdout",
     "output_type": "stream",
     "text": [
      "Lasso mape: 47.6555064096\n"
     ]
    }
   ],
   "source": [
    "tuned_parameters = {'alpha': np.logspace(-10, 0, 5)}\n",
    "lasso = GridSearchCV(estimator=linear_model.Lasso(),param_grid=tuned_parameters)\n",
    "lasso.fit(X_train, y_train)\n",
    "lasso_preds = lasso.predict(X_test)\n",
    "mape = mean_absolute_percentage_error(y_test, lasso_preds)\n",
    "print 'Lasso mape: {}'.format(mape)"
   ]
  },
  {
   "cell_type": "code",
   "execution_count": 358,
   "metadata": {},
   "outputs": [
    {
     "data": {
      "text/plain": [
       "1.0"
      ]
     },
     "execution_count": 358,
     "metadata": {},
     "output_type": "execute_result"
    }
   ],
   "source": [
    "lasso.best_estimator_.alpha"
   ]
  },
  {
   "cell_type": "raw",
   "metadata": {},
   "source": [
    "#### 2. A nonlinear regression offers a flexible technique for modelling complex relationships.\n",
    "We wish to explain the profits of the companies using their sales. Take logarithms of the both variables and omit negative values if any."
   ]
  },
  {
   "cell_type": "code",
   "execution_count": 359,
   "metadata": {
    "collapsed": true
   },
   "outputs": [],
   "source": [
    "df_profits_sales = df_origin[df_origin['profits'] >= 0]"
   ]
  },
  {
   "cell_type": "code",
   "execution_count": 360,
   "metadata": {
    "collapsed": true
   },
   "outputs": [],
   "source": [
    "log_profits = np.array(np.log(df_profits_sales['profits'].values))\n",
    "log_sales = np.array(np.log(df_profits_sales['sales'].values))"
   ]
  },
  {
   "cell_type": "code",
   "execution_count": 361,
   "metadata": {},
   "outputs": [
    {
     "data": {
      "text/plain": [
       "numpy.ndarray"
      ]
     },
     "execution_count": 361,
     "metadata": {},
     "output_type": "execute_result"
    }
   ],
   "source": [
    "type(log_sales)"
   ]
  },
  {
   "cell_type": "code",
   "execution_count": 362,
   "metadata": {},
   "outputs": [
    {
     "data": {
      "text/plain": [
       "<seaborn.axisgrid.JointGrid at 0x20db6438>"
      ]
     },
     "execution_count": 362,
     "metadata": {},
     "output_type": "execute_result"
    },
    {
     "data": {
      "image/png": "[encoded data removed]",
      "text/plain": [
       "<matplotlib.figure.Figure at 0x22f59240>"
      ]
     },
     "metadata": {},
     "output_type": "display_data"
    }
   ],
   "source": [
    "# (a) Make a bivariate scatter plot\n",
    "sns.jointplot(x=log_profits, y=log_sales)"
   ]
  },
  {
   "cell_type": "code",
   "execution_count": 363,
   "metadata": {
    "collapsed": true
   },
   "outputs": [],
   "source": [
    "# Create linear regression object\n",
    "lregr = linear_model.LinearRegression()"
   ]
  },
  {
   "cell_type": "code",
   "execution_count": 364,
   "metadata": {},
   "outputs": [
    {
     "data": {
      "text/plain": [
       "LinearRegression(copy_X=True, fit_intercept=True, n_jobs=1, normalize=False)"
      ]
     },
     "execution_count": 364,
     "metadata": {},
     "output_type": "execute_result"
    }
   ],
   "source": [
    "# Train the model using the training sets\n",
    "lregr.fit(log_sales.reshape(-1, 1), log_profits)"
   ]
  },
  {
   "cell_type": "code",
   "execution_count": 365,
   "metadata": {
    "collapsed": true
   },
   "outputs": [],
   "source": [
    "# Make predictions using the testing set\n",
    "lregr_y_pred = lregr.predict(log_sales.reshape(-1, 1))"
   ]
  },
  {
   "cell_type": "code",
   "execution_count": 366,
   "metadata": {},
   "outputs": [
    {
     "name": "stdout",
     "output_type": "stream",
     "text": [
      "('Intercept: ', -3.1210892992114498)\n"
     ]
    }
   ],
   "source": [
    "# The intercept\n",
    "print('Intercept: ', lregr.intercept_)"
   ]
  },
  {
   "cell_type": "code",
   "execution_count": 367,
   "metadata": {},
   "outputs": [
    {
     "name": "stdout",
     "output_type": "stream",
     "text": [
      "('Coefficients: ', array([ 1.01099621]))\n"
     ]
    }
   ],
   "source": [
    "# The coefficients\n",
    "print('Coefficients: ', lregr.coef_)"
   ]
  },
  {
   "cell_type": "code",
   "execution_count": 368,
   "metadata": {},
   "outputs": [
    {
     "name": "stdout",
     "output_type": "stream",
     "text": [
      "mean absolute percentage_error: 15.12\n"
     ]
    }
   ],
   "source": [
    "# The mean squared error\n",
    "print(\"mean absolute percentage_error: %.2f\"\n",
    "      % mean_absolute_percentage_error(log_profits, lregr_y_pred))"
   ]
  },
  {
   "cell_type": "code",
   "execution_count": 369,
   "metadata": {},
   "outputs": [
    {
     "data": {
      "image/png": "[encoded data removed]",
      "text/plain": [
       "<matplotlib.figure.Figure at 0x263c8198>"
      ]
     },
     "metadata": {},
     "output_type": "display_data"
    }
   ],
   "source": [
    "# Plot outputs\n",
    "plt.scatter(log_sales.reshape(-1, 1), log_profits,  color='black')\n",
    "plt.plot(log_sales.reshape(-1, 1), lregr_y_pred, color='blue', linewidth=2)\n",
    "\n",
    "plt.xticks(())\n",
    "plt.yticks(())\n",
    "\n",
    "plt.show()"
   ]
  },
  {
   "cell_type": "raw",
   "metadata": {},
   "source": [
    "(b) Estimate now an appropriate nonlinear regression which might fit the data better."
   ]
  },
  {
   "cell_type": "code",
   "execution_count": 370,
   "metadata": {
    "collapsed": true
   },
   "outputs": [],
   "source": [
    "def func(x, intercept, coeff, power):\n",
    "    return intercept + coeff * pow(x, power)\n",
    "\n",
    "popt, pcov = curve_fit(func, log_sales, log_profits, p0=(0.0, 1.0, 2.0))"
   ]
  },
  {
   "cell_type": "code",
   "execution_count": 371,
   "metadata": {},
   "outputs": [
    {
     "data": {
      "text/plain": [
       "array([ 1.11153934,  0.0890415 ,  1.81832607])"
      ]
     },
     "execution_count": 371,
     "metadata": {},
     "output_type": "execute_result"
    }
   ],
   "source": [
    "# the fit parameters\n",
    "popt"
   ]
  },
  {
   "cell_type": "code",
   "execution_count": 372,
   "metadata": {},
   "outputs": [
    {
     "data": {
      "text/plain": [
       "array([[ 8.74805335, -0.75632962,  3.03321528],\n",
       "       [-0.75632962,  0.06581633, -0.26439227],\n",
       "       [ 3.03321528, -0.26439227,  1.06256632]])"
      ]
     },
     "execution_count": 372,
     "metadata": {},
     "output_type": "execute_result"
    }
   ],
   "source": [
    "pcov"
   ]
  },
  {
   "cell_type": "code",
   "execution_count": 373,
   "metadata": {
    "collapsed": true
   },
   "outputs": [],
   "source": [
    "func_pred = func(log_sales, popt[0], popt[1], popt[2])"
   ]
  },
  {
   "cell_type": "code",
   "execution_count": 374,
   "metadata": {},
   "outputs": [
    {
     "name": "stdout",
     "output_type": "stream",
     "text": [
      "mean absolute percentage_error: 15.11\n"
     ]
    }
   ],
   "source": [
    "# The mean squared error\n",
    "print(\"mean absolute percentage_error: %.2f\"\n",
    "      % mean_absolute_percentage_error(log_profits, func_pred))"
   ]
  },
  {
   "cell_type": "code",
   "execution_count": 375,
   "metadata": {},
   "outputs": [
    {
     "data": {
      "image/png": "[encoded data removed]",
      "text/plain": [
       "<matplotlib.figure.Figure at 0x2368c240>"
      ]
     },
     "metadata": {},
     "output_type": "display_data"
    }
   ],
   "source": [
    "# Plot outputs\n",
    "plt.scatter(log_sales.reshape(-1, 1), log_profits,  color='black')\n",
    "plt.plot(log_sales.reshape(-1, 1), lregr_y_pred, color='blue', linewidth=2)\n",
    "plt.plot(log_sales.reshape(-1, 1), func_pred, color='green', linewidth=2)\n",
    "plt.xticks(())\n",
    "plt.yticks(())\n",
    "\n",
    "plt.show()"
   ]
  },
  {
   "cell_type": "markdown",
   "metadata": {},
   "source": [
    "#### 3. Next we model the relationship between log-profits and log-sales using a nonparametric regression."
   ]
  },
  {
   "cell_type": "raw",
   "metadata": {},
   "source": [
    "(a) The bandwidth determines the degree of smoothing. A large - increases the width of the bins, increasing the smoothness, important features will be smoothed out. A small - decreases the width of the bins, producing a less smooth, the estimator will be too rough."
   ]
  },
  {
   "cell_type": "code",
   "execution_count": 376,
   "metadata": {
    "collapsed": true
   },
   "outputs": [],
   "source": [
    "class KernelRegression(BaseEstimator, RegressorMixin):\n",
    "\n",
    "    # Author: Jan Hendrik Metzen <janmetzen@mailbox.de>\n",
    "    #\n",
    "    # License: BSD 3 clause\n",
    "    # https://github.com/jmetzen/kernel_regression\n",
    "\n",
    "    \"\"\"Nadaraya-Watson kernel regression with automatic bandwidth selection.\n",
    "    This implements Nadaraya-Watson kernel regression with (optional) automatic\n",
    "    bandwith selection of the kernel via leave-one-out cross-validation. Kernel\n",
    "    regression is a simple non-parametric kernelized technique for learning\n",
    "    a non-linear relationship between input variable(s) and a target variable.\n",
    "    Parameters\n",
    "    ----------\n",
    "    kernel : string or callable, default=\"rbf\"\n",
    "        Kernel map to be approximated. A callable should accept two arguments\n",
    "        and the keyword arguments passed to this object as kernel_params, and\n",
    "        should return a floating point number.\n",
    "    gamma : float, default=None\n",
    "        Gamma parameter for the RBF (\"bandwidth\"), polynomial,\n",
    "        exponential chi2 and sigmoid kernels. Interpretation of the default\n",
    "        value is left to the kernel; see the documentation for\n",
    "        sklearn.metrics.pairwise. Ignored by other kernels. If a sequence of\n",
    "        values is given, one of these values is selected which minimizes\n",
    "        the mean-squared-error of leave-one-out cross-validation.\n",
    "    See also\n",
    "    --------\n",
    "    sklearn.metrics.pairwise.kernel_metrics : List of built-in kernels.\n",
    "    \"\"\"\n",
    "\n",
    "    def __init__(self, kernel=\"rbf\", gamma=None):\n",
    "        self.kernel = kernel\n",
    "        self.gamma = gamma\n",
    "\n",
    "    def fit(self, X, y):\n",
    "        \"\"\"Fit the model\n",
    "        Parameters\n",
    "        ----------\n",
    "        X : array-like of shape = [n_samples, n_features]\n",
    "            The training input samples.\n",
    "        y : array-like, shape = [n_samples]\n",
    "            The target values\n",
    "        Returns\n",
    "        -------\n",
    "        self : object\n",
    "            Returns self.\n",
    "        \"\"\"\n",
    "        self.X = X\n",
    "        self.y = y\n",
    "\n",
    "        if hasattr(self.gamma, \"__iter__\"):\n",
    "            self.gamma = self._optimize_gamma(self.gamma)\n",
    "\n",
    "        return self\n",
    "\n",
    "    def predict(self, X):\n",
    "        \"\"\"Predict target values for X.\n",
    "        Parameters\n",
    "        ----------\n",
    "        X : array-like of shape = [n_samples, n_features]\n",
    "            The input samples.\n",
    "        Returns\n",
    "        -------\n",
    "        y : array of shape = [n_samples]\n",
    "            The predicted target value.\n",
    "        \"\"\"\n",
    "        K = pairwise_kernels(self.X, X, metric=self.kernel, gamma=self.gamma)\n",
    "        return (K * self.y[:, None]).sum(axis=0) / K.sum(axis=0)\n",
    "\n",
    "    def _optimize_gamma(self, gamma_values):\n",
    "        # Select specific value of gamma from the range of given gamma_values\n",
    "        # by minimizing mean-squared error in leave-one-out cross validation\n",
    "        mse = np.empty_like(gamma_values, dtype=np.float)\n",
    "        for i, gamma in enumerate(gamma_values):\n",
    "            K = pairwise_kernels(self.X, self.X, metric=self.kernel,\n",
    "                                 gamma=gamma)\n",
    "            np.fill_diagonal(K, 0)  # leave-one-out\n",
    "            Ky = K * self.y[:, np.newaxis]\n",
    "            y_pred = Ky.sum(axis=0) / K.sum(axis=0)\n",
    "            mse[i] = ((y_pred - self.y) ** 2).mean()\n",
    "\n",
    "        return gamma_values[np.nanargmin(mse)]"
   ]
  },
  {
   "cell_type": "code",
   "execution_count": 377,
   "metadata": {
    "collapsed": true
   },
   "outputs": [],
   "source": [
    "gamma=np.logspace(-2, 2, 10)\n",
    "param_grid={\"C\": [1e-1, 1e0, 1e1, 1e2], \"gamma\": gamma}"
   ]
  },
  {
   "cell_type": "code",
   "execution_count": 378,
   "metadata": {
    "collapsed": true
   },
   "outputs": [],
   "source": [
    "# Fit regression models\n",
    "svr = GridSearchCV(SVR(kernel='rbf'), cv=5, param_grid = param_grid)\n",
    "nadaraya_watson = KernelRegression(kernel=\"rbf\", gamma=gamma)"
   ]
  },
  {
   "cell_type": "code",
   "execution_count": 379,
   "metadata": {
    "collapsed": true
   },
   "outputs": [],
   "source": [
    "svr_pred = svr.fit(log_sales.reshape(-1, 1), log_profits).predict(log_sales.reshape(-1, 1))"
   ]
  },
  {
   "cell_type": "code",
   "execution_count": 380,
   "metadata": {
    "collapsed": true
   },
   "outputs": [],
   "source": [
    "nadaraya_watson_pred = nadaraya_watson.fit(log_sales.reshape(-1, 1), log_profits).predict(log_sales.reshape(-1, 1))"
   ]
  },
  {
   "cell_type": "code",
   "execution_count": 381,
   "metadata": {},
   "outputs": [
    {
     "name": "stdout",
     "output_type": "stream",
     "text": [
      "mean absolute percentage_error: 15.21\n"
     ]
    }
   ],
   "source": [
    "# svr error\n",
    "print(\"mean absolute percentage_error: %.2f\"\n",
    "      % mean_absolute_percentage_error(log_profits, svr_pred))"
   ]
  },
  {
   "cell_type": "code",
   "execution_count": 382,
   "metadata": {},
   "outputs": [
    {
     "name": "stdout",
     "output_type": "stream",
     "text": [
      "mean absolute percentage_error: 14.95\n"
     ]
    }
   ],
   "source": [
    "# nadaraya_watson error\n",
    "print(\"mean absolute percentage_error: %.2f\"\n",
    "      % mean_absolute_percentage_error(log_profits, nadaraya_watson_pred))"
   ]
  },
  {
   "cell_type": "raw",
   "metadata": {},
   "source": [
    "(c) Compare the fit of the nonparametric regression and the nonlinear regression in the previous subproblem:\n",
    "The nonparametric regression is more precise    "
   ]
  },
  {
   "cell_type": "markdown",
   "metadata": {
    "collapsed": true
   },
   "source": [
    "#### 4. We manually classify all CEO into those who earn more than 2000 and those who earn less than 2000."
   ]
  },
  {
   "cell_type": "code",
   "execution_count": 383,
   "metadata": {},
   "outputs": [
    {
     "data": {
      "text/html": [
       "<div>\n",
       "<style scoped>\n",
       "    .dataframe tbody tr th:only-of-type {\n",
       "        vertical-align: middle;\n",
       "    }\n",
       "\n",
       "    .dataframe tbody tr th {\n",
       "        vertical-align: top;\n",
       "    }\n",
       "\n",
       "    .dataframe thead th {\n",
       "        text-align: right;\n",
       "    }\n",
       "</style>\n",
       "<table border=\"1\" class=\"dataframe\">\n",
       "  <thead>\n",
       "    <tr style=\"text-align: right;\">\n",
       "      <th></th>\n",
       "      <th>salary</th>\n",
       "      <th>totcomp</th>\n",
       "      <th>tenure</th>\n",
       "      <th>age</th>\n",
       "      <th>sales</th>\n",
       "      <th>profits</th>\n",
       "      <th>assets</th>\n",
       "    </tr>\n",
       "  </thead>\n",
       "  <tbody>\n",
       "    <tr>\n",
       "      <th>0</th>\n",
       "      <td>3030</td>\n",
       "      <td>-0.006407</td>\n",
       "      <td>-0.101299</td>\n",
       "      <td>0.666302</td>\n",
       "      <td>9.272736</td>\n",
       "      <td>1.463864</td>\n",
       "      <td>3.566288</td>\n",
       "    </tr>\n",
       "    <tr>\n",
       "      <th>1</th>\n",
       "      <td>6050</td>\n",
       "      <td>0.196279</td>\n",
       "      <td>-0.951073</td>\n",
       "      <td>-0.804498</td>\n",
       "      <td>8.226376</td>\n",
       "      <td>13.869664</td>\n",
       "      <td>3.259042</td>\n",
       "    </tr>\n",
       "    <tr>\n",
       "      <th>2</th>\n",
       "      <td>3571</td>\n",
       "      <td>-0.028762</td>\n",
       "      <td>0.384285</td>\n",
       "      <td>0.960462</td>\n",
       "      <td>7.903905</td>\n",
       "      <td>2.420503</td>\n",
       "      <td>0.343983</td>\n",
       "    </tr>\n",
       "    <tr>\n",
       "      <th>3</th>\n",
       "      <td>3300</td>\n",
       "      <td>0.162477</td>\n",
       "      <td>-0.222695</td>\n",
       "      <td>0.519222</td>\n",
       "      <td>5.519363</td>\n",
       "      <td>3.679580</td>\n",
       "      <td>1.015313</td>\n",
       "    </tr>\n",
       "    <tr>\n",
       "      <th>4</th>\n",
       "      <td>10000</td>\n",
       "      <td>1.900813</td>\n",
       "      <td>1.234059</td>\n",
       "      <td>0.960462</td>\n",
       "      <td>5.505245</td>\n",
       "      <td>5.578579</td>\n",
       "      <td>5.092083</td>\n",
       "    </tr>\n",
       "  </tbody>\n",
       "</table>\n",
       "</div>"
      ],
      "text/plain": [
       "   salary   totcomp    tenure       age     sales    profits    assets\n",
       "0    3030 -0.006407 -0.101299  0.666302  9.272736   1.463864  3.566288\n",
       "1    6050  0.196279 -0.951073 -0.804498  8.226376  13.869664  3.259042\n",
       "2    3571 -0.028762  0.384285  0.960462  7.903905   2.420503  0.343983\n",
       "3    3300  0.162477 -0.222695  0.519222  5.519363   3.679580  1.015313\n",
       "4   10000  1.900813  1.234059  0.960462  5.505245   5.578579  5.092083"
      ]
     },
     "execution_count": 383,
     "metadata": {},
     "output_type": "execute_result"
    }
   ],
   "source": [
    "df.head()"
   ]
  },
  {
   "cell_type": "code",
   "execution_count": 384,
   "metadata": {
    "collapsed": true
   },
   "outputs": [],
   "source": [
    "df['Ygr2000'] = np.where(df['salary']>2000, 1, 0)"
   ]
  },
  {
   "cell_type": "code",
   "execution_count": 385,
   "metadata": {},
   "outputs": [
    {
     "data": {
      "text/html": [
       "<div>\n",
       "<style scoped>\n",
       "    .dataframe tbody tr th:only-of-type {\n",
       "        vertical-align: middle;\n",
       "    }\n",
       "\n",
       "    .dataframe tbody tr th {\n",
       "        vertical-align: top;\n",
       "    }\n",
       "\n",
       "    .dataframe thead th {\n",
       "        text-align: right;\n",
       "    }\n",
       "</style>\n",
       "<table border=\"1\" class=\"dataframe\">\n",
       "  <thead>\n",
       "    <tr style=\"text-align: right;\">\n",
       "      <th></th>\n",
       "      <th>salary</th>\n",
       "      <th>totcomp</th>\n",
       "      <th>tenure</th>\n",
       "      <th>age</th>\n",
       "      <th>sales</th>\n",
       "      <th>profits</th>\n",
       "      <th>assets</th>\n",
       "      <th>Ygr2000</th>\n",
       "    </tr>\n",
       "  </thead>\n",
       "  <tbody>\n",
       "    <tr>\n",
       "      <th>0</th>\n",
       "      <td>3030</td>\n",
       "      <td>-0.006407</td>\n",
       "      <td>-0.101299</td>\n",
       "      <td>0.666302</td>\n",
       "      <td>9.272736</td>\n",
       "      <td>1.463864</td>\n",
       "      <td>3.566288</td>\n",
       "      <td>1</td>\n",
       "    </tr>\n",
       "    <tr>\n",
       "      <th>1</th>\n",
       "      <td>6050</td>\n",
       "      <td>0.196279</td>\n",
       "      <td>-0.951073</td>\n",
       "      <td>-0.804498</td>\n",
       "      <td>8.226376</td>\n",
       "      <td>13.869664</td>\n",
       "      <td>3.259042</td>\n",
       "      <td>1</td>\n",
       "    </tr>\n",
       "    <tr>\n",
       "      <th>2</th>\n",
       "      <td>3571</td>\n",
       "      <td>-0.028762</td>\n",
       "      <td>0.384285</td>\n",
       "      <td>0.960462</td>\n",
       "      <td>7.903905</td>\n",
       "      <td>2.420503</td>\n",
       "      <td>0.343983</td>\n",
       "      <td>1</td>\n",
       "    </tr>\n",
       "    <tr>\n",
       "      <th>3</th>\n",
       "      <td>3300</td>\n",
       "      <td>0.162477</td>\n",
       "      <td>-0.222695</td>\n",
       "      <td>0.519222</td>\n",
       "      <td>5.519363</td>\n",
       "      <td>3.679580</td>\n",
       "      <td>1.015313</td>\n",
       "      <td>1</td>\n",
       "    </tr>\n",
       "    <tr>\n",
       "      <th>4</th>\n",
       "      <td>10000</td>\n",
       "      <td>1.900813</td>\n",
       "      <td>1.234059</td>\n",
       "      <td>0.960462</td>\n",
       "      <td>5.505245</td>\n",
       "      <td>5.578579</td>\n",
       "      <td>5.092083</td>\n",
       "      <td>1</td>\n",
       "    </tr>\n",
       "  </tbody>\n",
       "</table>\n",
       "</div>"
      ],
      "text/plain": [
       "   salary   totcomp    tenure       age     sales    profits    assets  \\\n",
       "0    3030 -0.006407 -0.101299  0.666302  9.272736   1.463864  3.566288   \n",
       "1    6050  0.196279 -0.951073 -0.804498  8.226376  13.869664  3.259042   \n",
       "2    3571 -0.028762  0.384285  0.960462  7.903905   2.420503  0.343983   \n",
       "3    3300  0.162477 -0.222695  0.519222  5.519363   3.679580  1.015313   \n",
       "4   10000  1.900813  1.234059  0.960462  5.505245   5.578579  5.092083   \n",
       "\n",
       "   Ygr2000  \n",
       "0        1  \n",
       "1        1  \n",
       "2        1  \n",
       "3        1  \n",
       "4        1  "
      ]
     },
     "execution_count": 385,
     "metadata": {},
     "output_type": "execute_result"
    }
   ],
   "source": [
    "df.head()"
   ]
  },
  {
   "cell_type": "code",
   "execution_count": 386,
   "metadata": {
    "collapsed": true
   },
   "outputs": [],
   "source": [
    "labels = df['Ygr2000']"
   ]
  },
  {
   "cell_type": "code",
   "execution_count": 387,
   "metadata": {
    "collapsed": true
   },
   "outputs": [],
   "source": [
    "variables = df[features]"
   ]
  },
  {
   "cell_type": "code",
   "execution_count": 388,
   "metadata": {
    "collapsed": true
   },
   "outputs": [],
   "source": [
    "X_train, X_test, y_train, y_test = train_test_split(variables, labels,\n",
    "                                                    train_size=0.75, test_size=0.25)"
   ]
  },
  {
   "cell_type": "raw",
   "metadata": {},
   "source": [
    "tpot = TPOTClassifier(generations=20, population_size=20, verbosity=2, cv=10)\n",
    "tpot.fit(X_train, y_train)\n",
    "print(\"tpot.score: \", tpot.score(X_test, y_test))\n",
    "tpot.export('tpot_classifier4.py')"
   ]
  },
  {
   "cell_type": "raw",
   "metadata": {},
   "source": [
    "(a) Fit a logistic regression to explain Y by the remaining explanatory variables."
   ]
  },
  {
   "cell_type": "code",
   "execution_count": 389,
   "metadata": {
    "collapsed": true
   },
   "outputs": [],
   "source": [
    "cv = 5"
   ]
  },
  {
   "cell_type": "code",
   "execution_count": 390,
   "metadata": {
    "collapsed": true
   },
   "outputs": [],
   "source": [
    "estimator = LogisticRegression()"
   ]
  },
  {
   "cell_type": "code",
   "execution_count": 391,
   "metadata": {
    "collapsed": true
   },
   "outputs": [],
   "source": [
    "param_grid = {\n",
    "    'C': [0.01, 0.05, 0.1, 0.5, 1, 5, 10],\n",
    "    'penalty': ['l1']\n",
    "}"
   ]
  },
  {
   "cell_type": "code",
   "execution_count": 392,
   "metadata": {
    "collapsed": true
   },
   "outputs": [],
   "source": [
    "optimizer = GridSearchCV(estimator, param_grid, cv = cv)"
   ]
  },
  {
   "cell_type": "code",
   "execution_count": 393,
   "metadata": {},
   "outputs": [
    {
     "data": {
      "text/plain": [
       "GridSearchCV(cv=5, error_score='raise',\n",
       "       estimator=LogisticRegression(C=1.0, class_weight=None, dual=False, fit_intercept=True,\n",
       "          intercept_scaling=1, max_iter=100, multi_class='ovr', n_jobs=1,\n",
       "          penalty='l2', random_state=None, solver='liblinear', tol=0.0001,\n",
       "          verbose=0, warm_start=False),\n",
       "       fit_params=None, iid=True, n_jobs=1,\n",
       "       param_grid={'penalty': ['l1'], 'C': [0.01, 0.05, 0.1, 0.5, 1, 5, 10]},\n",
       "       pre_dispatch='2*n_jobs', refit=True, return_train_score='warn',\n",
       "       scoring=None, verbose=0)"
      ]
     },
     "execution_count": 393,
     "metadata": {},
     "output_type": "execute_result"
    }
   ],
   "source": [
    "optimizer.fit(X_train, y_train)"
   ]
  },
  {
   "cell_type": "code",
   "execution_count": 394,
   "metadata": {
    "collapsed": true
   },
   "outputs": [],
   "source": [
    "auc_2 = roc_auc_score(y_test, optimizer.predict(X_test))"
   ]
  },
  {
   "cell_type": "code",
   "execution_count": 395,
   "metadata": {},
   "outputs": [
    {
     "data": {
      "text/plain": [
       "0.64805194805194799"
      ]
     },
     "execution_count": 395,
     "metadata": {},
     "output_type": "execute_result"
    }
   ],
   "source": [
    "auc_2"
   ]
  },
  {
   "cell_type": "code",
   "execution_count": 396,
   "metadata": {},
   "outputs": [
    {
     "name": "stdout",
     "output_type": "stream",
     "text": [
      "('Intercept:', -0.47644605284199176)\n"
     ]
    }
   ],
   "source": [
    "print('Intercept:', optimizer.best_estimator_.intercept_[0])"
   ]
  },
  {
   "cell_type": "code",
   "execution_count": 397,
   "metadata": {},
   "outputs": [
    {
     "name": "stdout",
     "output_type": "stream",
     "text": [
      "('Coefficient of each feature:', array([[ 2.31868307,  0.33511352,  0.00447131,  0.52960753,  0.8730479 ,\n",
      "         0.54053765]]))\n"
     ]
    }
   ],
   "source": [
    "print('Coefficient of each feature:', optimizer.best_estimator_.coef_)"
   ]
  },
  {
   "cell_type": "code",
   "execution_count": 398,
   "metadata": {},
   "outputs": [
    {
     "name": "stdout",
     "output_type": "stream",
     "text": [
      "                0\n",
      "totcomp  2.318683\n",
      "tenure   0.335114\n",
      "age      0.004471\n",
      "sales    0.529608\n",
      "profits  0.873048\n",
      "assets   0.540538\n"
     ]
    }
   ],
   "source": [
    "print(pd.DataFrame(np.transpose(optimizer.best_estimator_.coef_),df[features].columns))"
   ]
  },
  {
   "cell_type": "code",
   "execution_count": 399,
   "metadata": {},
   "outputs": [
    {
     "data": {
      "text/plain": [
       "array([ 2.31868307,  0.33511352,  0.00447131,  0.52960753,  0.8730479 ,\n",
       "        0.54053765])"
      ]
     },
     "execution_count": 399,
     "metadata": {},
     "output_type": "execute_result"
    }
   ],
   "source": [
    "optimizer.best_estimator_.coef_[0]"
   ]
  },
  {
   "cell_type": "raw",
   "metadata": {},
   "source": [
    "Provide for the ﬁrst of them the formula which may be used to compute this probability with inserted values of parameters and variables. "
   ]
  },
  {
   "cell_type": "code",
   "execution_count": 400,
   "metadata": {},
   "outputs": [
    {
     "name": "stdout",
     "output_type": "stream",
     "text": [
      "y = -0.48 + 2.32*totcomp + 0.34*tenure + 0.00*age + 0.53*sales + 0.87*profits + 0.54*assets\n"
     ]
    }
   ],
   "source": [
    "intercept = optimizer.best_estimator_.intercept_[0]\n",
    "coeffs = df[features].columns\n",
    "weight = optimizer.best_estimator_.coef_[0]\n",
    "print \"y = {:.2f} + {:.2f}*{} + {:.2f}*{} + {:.2f}*{} + {:.2f}*{} + {:.2f}*{} + {:.2f}*{}\".format(intercept, weight[0], coeffs[0], weight[1], coeffs[1], weight[2], coeffs[2], weight[3], coeffs[3], weight[4], coeffs[4], weight[5], coeffs[5])"
   ]
  },
  {
   "cell_type": "code",
   "execution_count": 401,
   "metadata": {},
   "outputs": [
    {
     "data": {
      "text/plain": [
       "totcomp   -0.141647\n",
       "tenure     0.748474\n",
       "age       -0.363258\n",
       "sales     -0.397317\n",
       "profits   -0.269638\n",
       "assets    -0.243770\n",
       "Name: 286, dtype: float64"
      ]
     },
     "execution_count": 401,
     "metadata": {},
     "output_type": "execute_result"
    }
   ],
   "source": [
    "#for X_test.iloc[0]\n",
    "X_test.iloc[0]"
   ]
  },
  {
   "cell_type": "code",
   "execution_count": 402,
   "metadata": {},
   "outputs": [
    {
     "name": "stdout",
     "output_type": "stream",
     "text": [
      "y = -0.48 + 2.32*-0.14 + 0.34*0.75 + 0.00*-0.36 + 0.53*-0.40 + 0.87*-0.27 + 0.54*-0.24\n"
     ]
    }
   ],
   "source": [
    "coeffs = X_test.iloc[0].values\n",
    "print \"y = {:.2f} + {:.2f}*{:.2f} + {:.2f}*{:.2f} + {:.2f}*{:.2f} + {:.2f}*{:.2f} + {:.2f}*{:.2f} + {:.2f}*{:.2f}\".format(intercept, weight[0], coeffs[0], weight[1], coeffs[1], weight[2], coeffs[2], weight[3], coeffs[3], weight[4], coeffs[4], weight[5], coeffs[5])"
   ]
  },
  {
   "cell_type": "code",
   "execution_count": 403,
   "metadata": {
    "collapsed": true
   },
   "outputs": [],
   "source": [
    "y = -0.38 + 2.02*-0.25 + 0.24*-0.95 + 0.13*-1.69 + 0.52*-0.51 + 0.87*-0.46 + 0.50*-0.39"
   ]
  },
  {
   "cell_type": "code",
   "execution_count": 404,
   "metadata": {},
   "outputs": [
    {
     "data": {
      "text/plain": [
       "-2.1931"
      ]
     },
     "execution_count": 404,
     "metadata": {},
     "output_type": "execute_result"
    }
   ],
   "source": [
    "y"
   ]
  },
  {
   "cell_type": "code",
   "execution_count": 405,
   "metadata": {},
   "outputs": [],
   "source": [
    "odds = np.exp(y)"
   ]
  },
  {
   "cell_type": "code",
   "execution_count": 406,
   "metadata": {},
   "outputs": [
    {
     "data": {
      "text/plain": [
       "0.1003718248813233"
      ]
     },
     "execution_count": 406,
     "metadata": {},
     "output_type": "execute_result"
    }
   ],
   "source": [
    "# convert from odds to probability:\n",
    "odds / (1 + odds)"
   ]
  },
  {
   "cell_type": "code",
   "execution_count": 407,
   "metadata": {},
   "outputs": [
    {
     "data": {
      "text/plain": [
       "0"
      ]
     },
     "execution_count": 407,
     "metadata": {},
     "output_type": "execute_result"
    }
   ],
   "source": [
    "#let's check:\n",
    "y_test.iloc[0]"
   ]
  },
  {
   "cell_type": "code",
   "execution_count": 408,
   "metadata": {
    "collapsed": true
   },
   "outputs": [],
   "source": [
    "# another approach\n",
    "lregrcv = LogisticRegressionCV(cv=10, penalty='l1', solver='liblinear')"
   ]
  },
  {
   "cell_type": "code",
   "execution_count": 409,
   "metadata": {},
   "outputs": [
    {
     "data": {
      "text/plain": [
       "LogisticRegressionCV(Cs=10, class_weight=None, cv=10, dual=False,\n",
       "           fit_intercept=True, intercept_scaling=1.0, max_iter=100,\n",
       "           multi_class='ovr', n_jobs=1, penalty='l1', random_state=None,\n",
       "           refit=True, scoring=None, solver='liblinear', tol=0.0001,\n",
       "           verbose=0)"
      ]
     },
     "execution_count": 409,
     "metadata": {},
     "output_type": "execute_result"
    }
   ],
   "source": [
    "lregrcv.fit(X_train, y_train)"
   ]
  },
  {
   "cell_type": "code",
   "execution_count": 410,
   "metadata": {
    "collapsed": true
   },
   "outputs": [],
   "source": [
    "auc_2 = roc_auc_score(y_test, lregrcv.predict(X_test))"
   ]
  },
  {
   "cell_type": "code",
   "execution_count": 411,
   "metadata": {},
   "outputs": [
    {
     "data": {
      "text/plain": [
       "0.64805194805194799"
      ]
     },
     "execution_count": 411,
     "metadata": {},
     "output_type": "execute_result"
    }
   ],
   "source": [
    "auc_2"
   ]
  },
  {
   "cell_type": "code",
   "execution_count": 412,
   "metadata": {},
   "outputs": [
    {
     "name": "stdout",
     "output_type": "stream",
     "text": [
      "('Intercept:', -0.48021547245974883)\n"
     ]
    }
   ],
   "source": [
    "print('Intercept:', lregrcv.intercept_[0])"
   ]
  },
  {
   "cell_type": "code",
   "execution_count": 413,
   "metadata": {},
   "outputs": [
    {
     "name": "stdout",
     "output_type": "stream",
     "text": [
      "('Coefficient of each feature:', array([[ 2.25905992,  0.33273361,  0.00245955,  0.52314542,  0.86826607,\n",
      "         0.53519715]]))\n"
     ]
    }
   ],
   "source": [
    "print('Coefficient of each feature:', lregrcv.coef_)"
   ]
  },
  {
   "cell_type": "code",
   "execution_count": 414,
   "metadata": {},
   "outputs": [
    {
     "name": "stdout",
     "output_type": "stream",
     "text": [
      "                0\n",
      "totcomp  2.259060\n",
      "tenure   0.332734\n",
      "age      0.002460\n",
      "sales    0.523145\n",
      "profits  0.868266\n",
      "assets   0.535197\n"
     ]
    }
   ],
   "source": [
    "print(pd.DataFrame(np.transpose(lregrcv.coef_),df[features].columns))"
   ]
  },
  {
   "cell_type": "code",
   "execution_count": 415,
   "metadata": {
    "collapsed": true
   },
   "outputs": [],
   "source": [
    "# after l1 regularization we have all non-zero coefficients. so - keep them all"
   ]
  },
  {
   "cell_type": "raw",
   "metadata": {},
   "source": [
    "(c) Randomly pick up five CEOs."
   ]
  },
  {
   "cell_type": "code",
   "execution_count": 416,
   "metadata": {},
   "outputs": [
    {
     "data": {
      "text/plain": [
       "array([291,  23, 426, 421, 316], dtype=int64)"
      ]
     },
     "execution_count": 416,
     "metadata": {},
     "output_type": "execute_result"
    }
   ],
   "source": [
    "np.random.seed(3)\n",
    "\n",
    "# number of rows\n",
    "remove_n = 5\n",
    "\n",
    "# pick up random CEO from test and get it's indices\n",
    "randCEO_indices = np.random.choice(X_test.index, remove_n, replace=False)\n",
    "randCEO_indices"
   ]
  },
  {
   "cell_type": "code",
   "execution_count": 417,
   "metadata": {},
   "outputs": [
    {
     "data": {
      "text/plain": [
       "291    1\n",
       "23     1\n",
       "426    0\n",
       "421    0\n",
       "316    0\n",
       "Name: Ygr2000, dtype: int32"
      ]
     },
     "execution_count": 417,
     "metadata": {},
     "output_type": "execute_result"
    }
   ],
   "source": [
    "# actual class\n",
    "y_test.loc[randCEO_indices]"
   ]
  },
  {
   "cell_type": "code",
   "execution_count": 418,
   "metadata": {},
   "outputs": [
    {
     "data": {
      "text/plain": [
       "array([[0],\n",
       "       [1],\n",
       "       [0],\n",
       "       [0],\n",
       "       [0]])"
      ]
     },
     "execution_count": 418,
     "metadata": {},
     "output_type": "execute_result"
    }
   ],
   "source": [
    "# predicted class\n",
    "optimizer.predict(X_test.loc[randCEO_indices]).reshape(-1,1)"
   ]
  },
  {
   "cell_type": "code",
   "execution_count": 419,
   "metadata": {},
   "outputs": [
    {
     "data": {
      "text/plain": [
       "array([[ 0.8857877 ,  0.1142123 ],\n",
       "       [ 0.41447656,  0.58552344],\n",
       "       [ 0.82297542,  0.17702458],\n",
       "       [ 0.8334447 ,  0.1665553 ],\n",
       "       [ 0.90244084,  0.09755916]])"
      ]
     },
     "execution_count": 419,
     "metadata": {},
     "output_type": "execute_result"
    }
   ],
   "source": [
    "# Determine their probabilities of having the salary of less , or more  than 2000:\n",
    "optimizer.predict_proba(X_test.loc[randCEO_indices])"
   ]
  },
  {
   "cell_type": "code",
   "execution_count": 420,
   "metadata": {
    "collapsed": true
   },
   "outputs": [],
   "source": [
    "# * first column is the probability that CEO has less than 2000"
   ]
  },
  {
   "cell_type": "raw",
   "metadata": {},
   "source": [
    "(d) Compute the classification table and calculate the specifity and sensitivity."
   ]
  },
  {
   "cell_type": "code",
   "execution_count": 421,
   "metadata": {
    "collapsed": true
   },
   "outputs": [],
   "source": [
    "#Note that in binary classification, recall of the positive class is also known as “sensitivity”; recall of the negative class is “specificity”."
   ]
  },
  {
   "cell_type": "code",
   "execution_count": 422,
   "metadata": {},
   "outputs": [
    {
     "name": "stdout",
     "output_type": "stream",
     "text": [
      "             precision    recall  f1-score   support\n",
      "\n",
      "          0       0.77      0.90      0.83        77\n",
      "          1       0.64      0.40      0.49        35\n",
      "\n",
      "avg / total       0.73      0.74      0.72       112\n",
      "\n"
     ]
    }
   ],
   "source": [
    "print(classification_report(y_test, optimizer.predict(X_test)))"
   ]
  },
  {
   "cell_type": "code",
   "execution_count": 423,
   "metadata": {},
   "outputs": [
    {
     "name": "stdout",
     "output_type": "stream",
     "text": [
      "             precision    recall  f1-score   support\n",
      "\n",
      "          0       0.77      0.90      0.83        77\n",
      "          1       0.64      0.40      0.49        35\n",
      "\n",
      "avg / total       0.73      0.74      0.72       112\n",
      "\n"
     ]
    }
   ],
   "source": [
    "print(classification_report(y_test, lregrcv.predict(X_test)))"
   ]
  },
  {
   "cell_type": "code",
   "execution_count": 424,
   "metadata": {
    "collapsed": true
   },
   "outputs": [],
   "source": [
    "false_positive_rate, true_positive_rate, thresholds = roc_curve(y_test, optimizer.predict(X_test))\n",
    "roc_auc = auc(false_positive_rate, true_positive_rate)"
   ]
  },
  {
   "cell_type": "code",
   "execution_count": 425,
   "metadata": {},
   "outputs": [
    {
     "data": {
      "text/plain": [
       "array([2, 1, 0])"
      ]
     },
     "execution_count": 425,
     "metadata": {},
     "output_type": "execute_result"
    }
   ],
   "source": [
    "thresholds"
   ]
  },
  {
   "cell_type": "code",
   "execution_count": 426,
   "metadata": {},
   "outputs": [
    {
     "data": {
      "image/png": "[encoded data removed]",
      "text/plain": [
       "<matplotlib.figure.Figure at 0x22f33358>"
      ]
     },
     "metadata": {},
     "output_type": "display_data"
    }
   ],
   "source": [
    "plt.title('Receiver Operating Characteristic')\n",
    "plt.plot(false_positive_rate, true_positive_rate, 'b',\n",
    "label='AUC = %0.2f'% roc_auc)\n",
    "plt.legend(loc='lower right')\n",
    "plt.plot([0,1],[0,1],'r--')\n",
    "plt.xlim([-0.1,1.2])\n",
    "plt.ylim([-0.1,1.2])\n",
    "plt.ylabel('True Positive Rate')\n",
    "plt.xlabel('False Positive Rate')\n",
    "\n",
    "# create the axis of thresholds (scores)\n",
    "ax2 = plt.gca().twinx()\n",
    "ax2.plot(false_positive_rate, thresholds, markeredgecolor='g',linestyle='dashed', color='g')\n",
    "ax2.set_ylabel('Threshold',color='g')\n",
    "ax2.set_ylim([thresholds[-1],thresholds[0]])\n",
    "ax2.set_xlim([false_positive_rate[0],false_positive_rate[-1]])\n",
    "plt.show()"
   ]
  },
  {
   "cell_type": "code",
   "execution_count": 427,
   "metadata": {
    "collapsed": true
   },
   "outputs": [],
   "source": [
    "# as I known, python does not have function like coords for best treshold"
   ]
  },
  {
   "cell_type": "markdown",
   "metadata": {},
   "source": [
    "#### 5. In the next step we model the salary of CEOs using regression trees."
   ]
  },
  {
   "cell_type": "code",
   "execution_count": 428,
   "metadata": {
    "collapsed": true
   },
   "outputs": [],
   "source": [
    "param_grid = {\"criterion\": [\"gini\", \"entropy\"],\n",
    "              \"min_samples_split\": [2, 10, 12],\n",
    "              \"max_depth\": [None, 2, 5, 10],\n",
    "              \"min_samples_leaf\": [1, 3, 10],\n",
    "              \"max_leaf_nodes\": [None, 5, 10, 20],\n",
    "              }\n",
    "\n",
    "dt_estimator = DecisionTreeClassifier()\n",
    "dt_opt = GridSearchCV(estimator=dt_estimator, param_grid=param_grid, cv = cv)"
   ]
  },
  {
   "cell_type": "code",
   "execution_count": 429,
   "metadata": {},
   "outputs": [
    {
     "data": {
      "text/plain": [
       "GridSearchCV(cv=5, error_score='raise',\n",
       "       estimator=DecisionTreeClassifier(class_weight=None, criterion='gini', max_depth=None,\n",
       "            max_features=None, max_leaf_nodes=None,\n",
       "            min_impurity_decrease=0.0, min_impurity_split=None,\n",
       "            min_samples_leaf=1, min_samples_split=2,\n",
       "            min_weight_fraction_leaf=0.0, presort=False, random_state=None,\n",
       "            splitter='best'),\n",
       "       fit_params=None, iid=True, n_jobs=1,\n",
       "       param_grid={'min_samples_split': [2, 10, 12], 'max_leaf_nodes': [None, 5, 10, 20], 'criterion': ['gini', 'entropy'], 'max_depth': [None, 2, 5, 10], 'min_samples_leaf': [1, 3, 10]},\n",
       "       pre_dispatch='2*n_jobs', refit=True, return_train_score='warn',\n",
       "       scoring=None, verbose=0)"
      ]
     },
     "execution_count": 429,
     "metadata": {},
     "output_type": "execute_result"
    }
   ],
   "source": [
    "dt_opt.fit(X_train, y_train)"
   ]
  },
  {
   "cell_type": "code",
   "execution_count": 430,
   "metadata": {},
   "outputs": [
    {
     "name": "stdout",
     "output_type": "stream",
     "text": [
      "(0.76417910447761195, {'min_samples_split': 2, 'max_leaf_nodes': 5, 'criterion': 'gini', 'max_depth': None, 'min_samples_leaf': 1})\n"
     ]
    }
   ],
   "source": [
    "tree_model = dt_opt.best_estimator_\n",
    "print (dt_opt.best_score_, dt_opt.best_params_)"
   ]
  },
  {
   "cell_type": "code",
   "execution_count": 431,
   "metadata": {},
   "outputs": [
    {
     "data": {
      "text/plain": [
       "0.73766233766233757"
      ]
     },
     "execution_count": 431,
     "metadata": {},
     "output_type": "execute_result"
    }
   ],
   "source": [
    "roc_auc_score(y_test, tree_model.predict(X_test))"
   ]
  },
  {
   "cell_type": "code",
   "execution_count": 432,
   "metadata": {
    "collapsed": true
   },
   "outputs": [],
   "source": [
    "false_positive_rate, true_positive_rate, thresholds = roc_curve(y_test, tree_model.predict(X_test))\n",
    "roc_auc = auc(false_positive_rate, true_positive_rate)"
   ]
  },
  {
   "cell_type": "code",
   "execution_count": 433,
   "metadata": {},
   "outputs": [
    {
     "data": {
      "image/png": "[encoded data removed]",
      "text/plain": [
       "<matplotlib.figure.Figure at 0x23323f60>"
      ]
     },
     "metadata": {},
     "output_type": "display_data"
    }
   ],
   "source": [
    "plt.title('Receiver Operating Characteristic')\n",
    "plt.plot(false_positive_rate, true_positive_rate, 'b',\n",
    "label='AUC = %0.2f'% roc_auc)\n",
    "plt.legend(loc='lower right')\n",
    "plt.plot([0,1],[0,1],'r--')\n",
    "plt.xlim([-0.1,1.2])\n",
    "plt.ylim([-0.1,1.2])\n",
    "plt.ylabel('True Positive Rate')\n",
    "plt.xlabel('False Positive Rate')\n",
    "\n",
    "# create the axis of thresholds (scores)\n",
    "ax2 = plt.gca().twinx()\n",
    "ax2.plot(false_positive_rate, thresholds, markeredgecolor='g',linestyle='dashed', color='g')\n",
    "ax2.set_ylabel('Threshold',color='g')\n",
    "ax2.set_ylim([thresholds[-1],thresholds[0]])\n",
    "ax2.set_xlim([false_positive_rate[0],false_positive_rate[-1]])\n",
    "plt.show()"
   ]
  },
  {
   "cell_type": "code",
   "execution_count": 434,
   "metadata": {},
   "outputs": [
    {
     "data": {
      "image/png": "[encoded data removed]",
      "text/plain": [
       "<IPython.core.display.Image object>"
      ]
     },
     "execution_count": 434,
     "metadata": {},
     "output_type": "execute_result"
    }
   ],
   "source": [
    "from sklearn.externals.six import StringIO  \n",
    "from IPython.display import Image  \n",
    "from sklearn.tree import export_graphviz\n",
    "import pydotplus\n",
    "dot_data = StringIO()\n",
    "export_graphviz(tree_model, out_file=dot_data,  \n",
    "                filled=True, rounded=True,\n",
    "                special_characters=True)\n",
    "graph = pydotplus.graph_from_dot_data(dot_data.getvalue())  \n",
    "Image(graph.create_png())"
   ]
  },
  {
   "cell_type": "code",
   "execution_count": 435,
   "metadata": {
    "collapsed": true
   },
   "outputs": [],
   "source": [
    "# Another approach\n",
    "exported_pipeline = make_pipeline(\n",
    "    StackingEstimator(estimator=BernoulliNB(alpha=100.0, fit_prior=True)),\n",
    "    DecisionTreeClassifier(criterion=\"entropy\", max_depth=3, min_samples_leaf=15, min_samples_split=5)\n",
    ")\n",
    "\n",
    "exported_pipeline.fit(X_train, y_train)\n",
    "results = exported_pipeline.predict(X_test)"
   ]
  },
  {
   "cell_type": "code",
   "execution_count": 436,
   "metadata": {},
   "outputs": [
    {
     "data": {
      "text/plain": [
       "0.74805194805194808"
      ]
     },
     "execution_count": 436,
     "metadata": {},
     "output_type": "execute_result"
    }
   ],
   "source": [
    "roc_auc_score(y_test, exported_pipeline.predict(X_test))"
   ]
  },
  {
   "cell_type": "code",
   "execution_count": 437,
   "metadata": {
    "collapsed": true
   },
   "outputs": [],
   "source": [
    "false_positive_rate, true_positive_rate, thresholds = roc_curve(y_test, exported_pipeline.predict(X_test))\n",
    "roc_auc = auc(false_positive_rate, true_positive_rate)"
   ]
  },
  {
   "cell_type": "code",
   "execution_count": 438,
   "metadata": {},
   "outputs": [
    {
     "data": {
      "image/png": "[encoded data removed]",
      "text/plain": [
       "<matplotlib.figure.Figure at 0x26a9c978>"
      ]
     },
     "metadata": {},
     "output_type": "display_data"
    }
   ],
   "source": [
    "plt.title('Receiver Operating Characteristic')\n",
    "plt.plot(false_positive_rate, true_positive_rate, 'b',\n",
    "label='AUC = %0.2f'% roc_auc)\n",
    "plt.legend(loc='lower right')\n",
    "plt.plot([0,1],[0,1],'r--')\n",
    "plt.xlim([-0.1,1.2])\n",
    "plt.ylim([-0.1,1.2])\n",
    "plt.ylabel('True Positive Rate')\n",
    "plt.xlabel('False Positive Rate')\n",
    "\n",
    "# create the axis of thresholds (scores)\n",
    "ax2 = plt.gca().twinx()\n",
    "ax2.plot(false_positive_rate, thresholds, markeredgecolor='g',linestyle='dashed', color='g')\n",
    "ax2.set_ylabel('Threshold',color='g')\n",
    "ax2.set_ylim([thresholds[-1],thresholds[0]])\n",
    "ax2.set_xlim([false_positive_rate[0],false_positive_rate[-1]])\n",
    "plt.show()"
   ]
  },
  {
   "cell_type": "code",
   "execution_count": null,
   "metadata": {
    "collapsed": true
   },
   "outputs": [],
   "source": []
  }
 ],
 "metadata": {
  "kernelspec": {
   "display_name": "Python 2",
   "language": "python",
   "name": "python2"
  },
  "language_info": {
   "codemirror_mode": {
    "name": "ipython",
    "version": 2
   },
   "file_extension": ".py",
   "mimetype": "text/x-python",
   "name": "python",
   "nbconvert_exporter": "python",
   "pygments_lexer": "ipython2",
   "version": "2.7.13"
  }
 },
 "nbformat": 4,
 "nbformat_minor": 2
}
